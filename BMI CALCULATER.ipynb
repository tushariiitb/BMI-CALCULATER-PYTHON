{
 "cells": [
  {
   "cell_type": "code",
   "execution_count": 1,
   "id": "3957fc83-19ac-4bc8-a532-f3a18545864c",
   "metadata": {},
   "outputs": [],
   "source": [
    "#BMI=(WEight in pounds*703)/(Height in inches* Height in inches)"
   ]
  },
  {
   "cell_type": "code",
   "execution_count": 9,
   "id": "1127a666-11c5-4e7d-aec0-65e0e17ce9e4",
   "metadata": {},
   "outputs": [
    {
     "name": "stdin",
     "output_type": "stream",
     "text": [
      "enter your name Tushar \n",
      "enter your weight in pounds :  170\n",
      "enter your height in inches :  72\n"
     ]
    },
    {
     "name": "stdout",
     "output_type": "stream",
     "text": [
      "23.053626543209877\n",
      "Tushar You are normal weight\n"
     ]
    }
   ],
   "source": [
    "name=input(\"enter your name\")\n",
    "weight=int(input(\"enter your weight in pounds : \"))\n",
    "height=int(input(\"enter your height in inches : \"))\n",
    "BMI=(weight*703)/(height*height)\n",
    "print(BMI)\n",
    "\n",
    "if BMI > 0:\n",
    "    if BMI < 18.5:\n",
    "        print(name + \"You are Underweight\")\n",
    "    elif BMI <= 24.5:\n",
    "        print(name + \"You are normal weight\")\n",
    "    elif BMI < 29.5:\n",
    "        print(name + \"You are overweight\")\n",
    "    else :\n",
    "        print(name + \"You are obeese\")\n"
   ]
  },
  {
   "cell_type": "code",
   "execution_count": null,
   "id": "3418a540-71dd-4bfc-8a4f-88b48eb280db",
   "metadata": {},
   "outputs": [],
   "source": []
  },
  {
   "cell_type": "code",
   "execution_count": null,
   "id": "5d17f9e9-0851-4dc2-af58-16b329ccd099",
   "metadata": {},
   "outputs": [],
   "source": []
  },
  {
   "cell_type": "code",
   "execution_count": null,
   "id": "71f8182a-bdea-41a6-bcde-c45b7a681517",
   "metadata": {},
   "outputs": [],
   "source": []
  }
 ],
 "metadata": {
  "kernelspec": {
   "display_name": "Python 3 (ipykernel)",
   "language": "python",
   "name": "python3"
  },
  "language_info": {
   "codemirror_mode": {
    "name": "ipython",
    "version": 3
   },
   "file_extension": ".py",
   "mimetype": "text/x-python",
   "name": "python",
   "nbconvert_exporter": "python",
   "pygments_lexer": "ipython3",
   "version": "3.11.7"
  },
  "widgets": {
   "application/vnd.jupyter.widget-state+json": {
    "state": {},
    "version_major": 2,
    "version_minor": 0
   }
  }
 },
 "nbformat": 4,
 "nbformat_minor": 5
}
